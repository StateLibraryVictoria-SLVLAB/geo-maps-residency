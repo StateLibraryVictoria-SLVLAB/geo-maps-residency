{
 "cells": [
  {
   "cell_type": "markdown",
   "id": "68738186-5365-4494-b5d3-6d43c3a2872b",
   "metadata": {},
   "source": [
    "# Parish maps browser\n",
    "\n",
    "This notebook displays information about the SLV's collection of parish maps on a modern basemap. It's mainly intended as a way of visualising the results of my efforts to create bounding boxes from the available metadata.\n",
    "\n",
    "Click on **Run > Run all cells** then select a parish map from the dropdown list:\n",
    "\n",
    "- if there's a bounding box and an image identifier, the image of the parish map will be overlaid on the modern base map using the bounding box coordinates\n",
    "- if there's a bounding box, but no image identifier, a rectangle will be drawn on the base map showing the dimensions of the bounding box\n",
    "- if there are point coordinates, but no bounding box, a marker will be placed on the base map\n",
    "\n",
    "If the image of the map is displayed you can use the slider to adjust the opacity.\n",
    "\n",
    "Clicking on either the image, rectangle, or marker will display metadata about the parish map and a link to the SLV catalogue."
   ]
  },
  {
   "cell_type": "code",
   "execution_count": 1,
   "id": "8f131caf-9803-4db1-bea9-def4c4bb54c1",
   "metadata": {},
   "outputs": [],
   "source": [
    "from ipyleaflet import ImageOverlay, Map, WidgetControl, Rectangle, Marker\n",
    "import ipywidgets as widgets\n",
    "import json\n",
    "import pandas as pd\n",
    "import requests"
   ]
  },
  {
   "cell_type": "code",
   "execution_count": 3,
   "id": "568f12a9-476f-4371-b0f8-cd173e993a5f",
   "metadata": {},
   "outputs": [],
   "source": [
    "# Import the pre-processed data file\n",
    "df = pd.read_csv(\"parish_maps_final.csv\")"
   ]
  },
  {
   "cell_type": "code",
   "execution_count": 4,
   "id": "c32e36ca-8c5a-4898-9dfb-880a835ea8c3",
   "metadata": {},
   "outputs": [],
   "source": [
    "# Extract a list of titles to use in the dropdown selector\n",
    "titles = df.loc[(df[\"latitude\"].notnull()) & (df[\"longitude\"].notnull())].sort_values(\"title\")[[\"title\", \"publisher\", \"alma_id\"]].to_dict(orient=\"records\")\n",
    "choices = [(f\"{t['title'].strip('/')} / {t['publisher'] if pd.notnull(t['publisher']) else ''}\", t[\"alma_id\"]) for t in titles]"
   ]
  },
  {
   "cell_type": "code",
   "execution_count": 5,
   "id": "3b6e3cd7-b51e-4953-9ba0-a763bb339d74",
   "metadata": {},
   "outputs": [],
   "source": [
    "def get_iiif_id(manifest_url):\n",
    "    \"\"\"\n",
    "    Extract a list of image @ids from an IIIF manifest\n",
    "    \"\"\"\n",
    "    image_ids = []\n",
    "    if manifest_url:\n",
    "        try:\n",
    "            response = requests.get(manifest_url, timeout=5)\n",
    "        except requests.exceptions.Timeout:\n",
    "            pass\n",
    "        else:\n",
    "            if response.ok:\n",
    "                manifest = response.json()\n",
    "                # There can be multiple images in a record\n",
    "                # So we loop through the canvases to get each one.\n",
    "                for canvas in manifest[\"sequences\"][0][\"canvases\"]:\n",
    "                    if canvas[\"images\"][0][\"resource\"][\"format\"] == \"image/jpeg\":\n",
    "                        image_ids.append(canvas[\"images\"][0][\"resource\"][\"service\"][\"@id\"])\n",
    "    return image_ids\n",
    "\n",
    "def create_map(metadata, image_url):\n",
    "    if pd.notnull(metadata[\"bbox\"]):\n",
    "        bbox = json.loads(metadata[\"bbox\"])\n",
    "    else:\n",
    "        bbox = None\n",
    "    default_layout = widgets.Layout(width=\"800px\", height=\"600px\")\n",
    "    \n",
    "    # Create the basemap and centre it on the map location\n",
    "    m = Map(\n",
    "        center=(metadata[\"latitude\"], metadata[\"longitude\"]),\n",
    "        zoom=10,\n",
    "        scroll_wheel_zoom=True,\n",
    "        layout=default_layout,\n",
    "    )\n",
    "\n",
    "    html = f\"<p style='line-height: 1.2;'><b>{metadata.title}</b><br>\"\n",
    "    html += f\"{metadata.publisher}<br>\" if pd.notnull(metadata.publisher) else \"\"\n",
    "    html += f\"{metadata.description}<br>\" if pd.notnull(metadata.description) else \"\"\n",
    "    html += f\"{metadata.coordinates}<br>\" if pd.notnull(metadata.coordinates) else \"\"\n",
    "    html += f\"{metadata.scale}<br>\" if pd.notnull(metadata.scale) else \"\"\n",
    "    html += f\"<a target='_blank' href='https://find.slv.vic.gov.au/discovery/fulldisplay?docid=alma{metadata.alma_id}&vid=61SLV_INST:SLV'>View in catalogue</a><br>\"\n",
    "    html += \"</p>\"\n",
    "        \n",
    "    message = widgets.HTML(html)\n",
    "\n",
    "\n",
    "    if bbox and image_url:\n",
    "        # Add the map image as an overlay\n",
    "        image = ImageOverlay(\n",
    "            # Image url\n",
    "            url=image_url,\n",
    "            # Postion the image using the bounding box data\n",
    "            bounds=((bbox[1], bbox[0]), (bbox[3], bbox[2])),\n",
    "            interactive=True\n",
    "        )\n",
    "        image.popup = message\n",
    "        # Add a slider to control the opacity of the image\n",
    "        slider = widgets.FloatSlider(\n",
    "            min=0,\n",
    "            max=1,\n",
    "            value=1,  # Opacity is valid in [0,1] range\n",
    "            orientation=\"vertical\",  # Vertical slider is what we want\n",
    "            readout=False,  # No need to show exact value\n",
    "            layout=widgets.Layout(width=\"2em\"),\n",
    "        )\n",
    "        # Connect slider value to opacity property of the Image Layer\n",
    "        widgets.jslink((slider, \"value\"), (image, \"opacity\"))\n",
    "        m.add_control(WidgetControl(widget=slider))\n",
    "        m.add_layer(image)\n",
    "\n",
    "        rectangle = Rectangle(bounds=((bbox[1], bbox[0]), (bbox[3], bbox[2])), stroke=False, fill_opacity=0)\n",
    "        rectangle.popup = message\n",
    "        m.add(rectangle)\n",
    "        #print(random[\"title\"])\n",
    "        #print(random[\"url\"])\n",
    "        # Set the map zoom so you can see all of the image.\n",
    "        # m.fit_bounds([[bbox[1], bbox[0]], [bbox[3], bbox[2]]])\n",
    "    elif bbox:\n",
    "        # If there's no image link, draw a rectangle\n",
    "        rectangle = Rectangle(bounds=((bbox[1], bbox[0]), (bbox[3], bbox[2])), line_cap=\"square\", weight=2)\n",
    "        rectangle.popup = message\n",
    "        m.add(rectangle)\n",
    "        #m.fit_bounds([[bbox[1], bbox[0]], [bbox[3], bbox[2]]])\n",
    "    else:\n",
    "        # If there's no bbox, add a marker\n",
    "        marker = Marker(location=(metadata[\"latitude\"], metadata[\"longitude\"]))\n",
    "        marker.popup = message\n",
    "        m.add(marker)\n",
    "    return m\n",
    "\n",
    "def display_map(df, alma_id):\n",
    "    metadata = df.loc[df[\"alma_id\"] == alma_id].iloc[0]\n",
    "    # Get an image url from IIIF manifest\n",
    "    if metadata[\"image_id\"]:\n",
    "        manifest_url = f\"https://rosetta.slv.vic.gov.au/delivery/iiif/presentation/2.1/{metadata['image_id']}/manifest.json\"\n",
    "        iiif_ids = get_iiif_id(manifest_url)\n",
    "        try:\n",
    "            image_url = f\"{iiif_ids[0]}/full/max/0/default.jpg\"\n",
    "        except IndexError:\n",
    "            image_url = None\n",
    "    else:\n",
    "        image_url = None\n",
    "    m = create_map(metadata, image_url)\n",
    "    display(m)"
   ]
  },
  {
   "cell_type": "code",
   "execution_count": 6,
   "id": "509c3909-999a-46a1-9258-548c45901e35",
   "metadata": {},
   "outputs": [
    {
     "data": {
      "application/vnd.jupyter.widget-view+json": {
       "model_id": "4a80d1f0f5494cdfba56fb949d51b9c4",
       "version_major": 2,
       "version_minor": 0
      },
      "text/plain": [
       "Dropdown(description='Parish:', layout=Layout(height='40px', width='80%'), options=(('Addington, County of Tal…"
      ]
     },
     "metadata": {},
     "output_type": "display_data"
    },
    {
     "data": {
      "application/vnd.jupyter.widget-view+json": {
       "model_id": "903d4222dd90464091b693f192f22a27",
       "version_major": 2,
       "version_minor": 0
      },
      "text/plain": [
       "Output()"
      ]
     },
     "metadata": {},
     "output_type": "display_data"
    }
   ],
   "source": [
    "select = widgets.Dropdown(\n",
    "    options=choices,\n",
    "    description='Parish:',\n",
    "    layout=widgets.Layout(width='80%', height='40px')\n",
    ")\n",
    "out = widgets.Output()\n",
    "\n",
    "def on_select(change):\n",
    "    out.clear_output()\n",
    "    with out:\n",
    "        display_map(df, change['new'])\n",
    "\n",
    "select.observe(on_select, names='value')\n",
    "display(select, out)"
   ]
  },
  {
   "cell_type": "code",
   "execution_count": null,
   "id": "5d7e2d17-7523-42c8-be97-05886bd29198",
   "metadata": {},
   "outputs": [],
   "source": []
  }
 ],
 "metadata": {
  "kernelspec": {
   "display_name": "Python 3 (ipykernel)",
   "language": "python",
   "name": "python3"
  },
  "language_info": {
   "codemirror_mode": {
    "name": "ipython",
    "version": 3
   },
   "file_extension": ".py",
   "mimetype": "text/x-python",
   "name": "python",
   "nbconvert_exporter": "python",
   "pygments_lexer": "ipython3",
   "version": "3.12.11"
  }
 },
 "nbformat": 4,
 "nbformat_minor": 5
}
